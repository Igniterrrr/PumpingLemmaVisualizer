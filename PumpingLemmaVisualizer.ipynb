{
  "nbformat": 4,
  "nbformat_minor": 0,
  "metadata": {
    "colab": {
      "provenance": []
    },
    "kernelspec": {
      "name": "python3",
      "display_name": "Python 3"
    },
    "language_info": {
      "name": "python"
    },
    "widgets": {
      "application/vnd.jupyter.widget-state+json": {
        "b978e6f120b44741a7db50a349a1d117": {
          "model_module": "@jupyter-widgets/controls",
          "model_name": "TextModel",
          "model_module_version": "1.5.0",
          "state": {
            "_dom_classes": [],
            "_model_module": "@jupyter-widgets/controls",
            "_model_module_version": "1.5.0",
            "_model_name": "TextModel",
            "_view_count": null,
            "_view_module": "@jupyter-widgets/controls",
            "_view_module_version": "1.5.0",
            "_view_name": "TextView",
            "continuous_update": true,
            "description": "String:",
            "description_tooltip": null,
            "disabled": false,
            "layout": "IPY_MODEL_235acf13bfad48fe8b023e0aa18fab25",
            "placeholder": "​",
            "style": "IPY_MODEL_e4aaee6cf3264abda8e663dd2d418d83",
            "value": "abab"
          }
        },
        "235acf13bfad48fe8b023e0aa18fab25": {
          "model_module": "@jupyter-widgets/base",
          "model_name": "LayoutModel",
          "model_module_version": "1.2.0",
          "state": {
            "_model_module": "@jupyter-widgets/base",
            "_model_module_version": "1.2.0",
            "_model_name": "LayoutModel",
            "_view_count": null,
            "_view_module": "@jupyter-widgets/base",
            "_view_module_version": "1.2.0",
            "_view_name": "LayoutView",
            "align_content": null,
            "align_items": null,
            "align_self": null,
            "border": null,
            "bottom": null,
            "display": null,
            "flex": null,
            "flex_flow": null,
            "grid_area": null,
            "grid_auto_columns": null,
            "grid_auto_flow": null,
            "grid_auto_rows": null,
            "grid_column": null,
            "grid_gap": null,
            "grid_row": null,
            "grid_template_areas": null,
            "grid_template_columns": null,
            "grid_template_rows": null,
            "height": null,
            "justify_content": null,
            "justify_items": null,
            "left": null,
            "margin": null,
            "max_height": null,
            "max_width": null,
            "min_height": null,
            "min_width": null,
            "object_fit": null,
            "object_position": null,
            "order": null,
            "overflow": null,
            "overflow_x": null,
            "overflow_y": null,
            "padding": null,
            "right": null,
            "top": null,
            "visibility": null,
            "width": null
          }
        },
        "e4aaee6cf3264abda8e663dd2d418d83": {
          "model_module": "@jupyter-widgets/controls",
          "model_name": "DescriptionStyleModel",
          "model_module_version": "1.5.0",
          "state": {
            "_model_module": "@jupyter-widgets/controls",
            "_model_module_version": "1.5.0",
            "_model_name": "DescriptionStyleModel",
            "_view_count": null,
            "_view_module": "@jupyter-widgets/base",
            "_view_module_version": "1.2.0",
            "_view_name": "StyleView",
            "description_width": ""
          }
        },
        "a4ecf99cfc294b8d9b38419df5fde98d": {
          "model_module": "@jupyter-widgets/controls",
          "model_name": "IntSliderModel",
          "model_module_version": "1.5.0",
          "state": {
            "_dom_classes": [],
            "_model_module": "@jupyter-widgets/controls",
            "_model_module_version": "1.5.0",
            "_model_name": "IntSliderModel",
            "_view_count": null,
            "_view_module": "@jupyter-widgets/controls",
            "_view_module_version": "1.5.0",
            "_view_name": "IntSliderView",
            "continuous_update": true,
            "description": "Pumping Length:",
            "description_tooltip": null,
            "disabled": false,
            "layout": "IPY_MODEL_294a62a7a0be4f24adb6bfea20cea5c7",
            "max": 10,
            "min": 1,
            "orientation": "horizontal",
            "readout": true,
            "readout_format": "d",
            "step": 1,
            "style": "IPY_MODEL_231b9850c486454c8bdd1fad46ad9254",
            "value": 2
          }
        },
        "294a62a7a0be4f24adb6bfea20cea5c7": {
          "model_module": "@jupyter-widgets/base",
          "model_name": "LayoutModel",
          "model_module_version": "1.2.0",
          "state": {
            "_model_module": "@jupyter-widgets/base",
            "_model_module_version": "1.2.0",
            "_model_name": "LayoutModel",
            "_view_count": null,
            "_view_module": "@jupyter-widgets/base",
            "_view_module_version": "1.2.0",
            "_view_name": "LayoutView",
            "align_content": null,
            "align_items": null,
            "align_self": null,
            "border": null,
            "bottom": null,
            "display": null,
            "flex": null,
            "flex_flow": null,
            "grid_area": null,
            "grid_auto_columns": null,
            "grid_auto_flow": null,
            "grid_auto_rows": null,
            "grid_column": null,
            "grid_gap": null,
            "grid_row": null,
            "grid_template_areas": null,
            "grid_template_columns": null,
            "grid_template_rows": null,
            "height": null,
            "justify_content": null,
            "justify_items": null,
            "left": null,
            "margin": null,
            "max_height": null,
            "max_width": null,
            "min_height": null,
            "min_width": null,
            "object_fit": null,
            "object_position": null,
            "order": null,
            "overflow": null,
            "overflow_x": null,
            "overflow_y": null,
            "padding": null,
            "right": null,
            "top": null,
            "visibility": null,
            "width": null
          }
        },
        "231b9850c486454c8bdd1fad46ad9254": {
          "model_module": "@jupyter-widgets/controls",
          "model_name": "SliderStyleModel",
          "model_module_version": "1.5.0",
          "state": {
            "_model_module": "@jupyter-widgets/controls",
            "_model_module_version": "1.5.0",
            "_model_name": "SliderStyleModel",
            "_view_count": null,
            "_view_module": "@jupyter-widgets/base",
            "_view_module_version": "1.2.0",
            "_view_name": "StyleView",
            "description_width": "",
            "handle_color": null
          }
        },
        "396ae3d2ca574201816d4b7a3f7b9f42": {
          "model_module": "@jupyter-widgets/controls",
          "model_name": "TextareaModel",
          "model_module_version": "1.5.0",
          "state": {
            "_dom_classes": [],
            "_model_module": "@jupyter-widgets/controls",
            "_model_module_version": "1.5.0",
            "_model_name": "TextareaModel",
            "_view_count": null,
            "_view_module": "@jupyter-widgets/controls",
            "_view_module_version": "1.5.0",
            "_view_name": "TextareaView",
            "continuous_update": true,
            "description": "Language:",
            "description_tooltip": null,
            "disabled": false,
            "layout": "IPY_MODEL_4078497be2cd44ef90e1d0c4179ed2f6",
            "placeholder": "​",
            "rows": null,
            "style": "IPY_MODEL_5b00a35db8214953a5bf2f8fb86eca7d",
            "value": "a ab abab"
          }
        },
        "4078497be2cd44ef90e1d0c4179ed2f6": {
          "model_module": "@jupyter-widgets/base",
          "model_name": "LayoutModel",
          "model_module_version": "1.2.0",
          "state": {
            "_model_module": "@jupyter-widgets/base",
            "_model_module_version": "1.2.0",
            "_model_name": "LayoutModel",
            "_view_count": null,
            "_view_module": "@jupyter-widgets/base",
            "_view_module_version": "1.2.0",
            "_view_name": "LayoutView",
            "align_content": null,
            "align_items": null,
            "align_self": null,
            "border": null,
            "bottom": null,
            "display": null,
            "flex": null,
            "flex_flow": null,
            "grid_area": null,
            "grid_auto_columns": null,
            "grid_auto_flow": null,
            "grid_auto_rows": null,
            "grid_column": null,
            "grid_gap": null,
            "grid_row": null,
            "grid_template_areas": null,
            "grid_template_columns": null,
            "grid_template_rows": null,
            "height": null,
            "justify_content": null,
            "justify_items": null,
            "left": null,
            "margin": null,
            "max_height": null,
            "max_width": null,
            "min_height": null,
            "min_width": null,
            "object_fit": null,
            "object_position": null,
            "order": null,
            "overflow": null,
            "overflow_x": null,
            "overflow_y": null,
            "padding": null,
            "right": null,
            "top": null,
            "visibility": null,
            "width": null
          }
        },
        "5b00a35db8214953a5bf2f8fb86eca7d": {
          "model_module": "@jupyter-widgets/controls",
          "model_name": "DescriptionStyleModel",
          "model_module_version": "1.5.0",
          "state": {
            "_model_module": "@jupyter-widgets/controls",
            "_model_module_version": "1.5.0",
            "_model_name": "DescriptionStyleModel",
            "_view_count": null,
            "_view_module": "@jupyter-widgets/base",
            "_view_module_version": "1.2.0",
            "_view_name": "StyleView",
            "description_width": ""
          }
        },
        "98062673798947ae963367159455d29f": {
          "model_module": "@jupyter-widgets/controls",
          "model_name": "IntSliderModel",
          "model_module_version": "1.5.0",
          "state": {
            "_dom_classes": [],
            "_model_module": "@jupyter-widgets/controls",
            "_model_module_version": "1.5.0",
            "_model_name": "IntSliderModel",
            "_view_count": null,
            "_view_module": "@jupyter-widgets/controls",
            "_view_module_version": "1.5.0",
            "_view_name": "IntSliderView",
            "continuous_update": true,
            "description": "Pump Factor:",
            "description_tooltip": null,
            "disabled": false,
            "layout": "IPY_MODEL_ec12884a46084471af5cb7b2491dd67c",
            "max": 5,
            "min": 0,
            "orientation": "horizontal",
            "readout": true,
            "readout_format": "d",
            "step": 1,
            "style": "IPY_MODEL_a671aadad567491d9e483720895e3288",
            "value": 1
          }
        },
        "ec12884a46084471af5cb7b2491dd67c": {
          "model_module": "@jupyter-widgets/base",
          "model_name": "LayoutModel",
          "model_module_version": "1.2.0",
          "state": {
            "_model_module": "@jupyter-widgets/base",
            "_model_module_version": "1.2.0",
            "_model_name": "LayoutModel",
            "_view_count": null,
            "_view_module": "@jupyter-widgets/base",
            "_view_module_version": "1.2.0",
            "_view_name": "LayoutView",
            "align_content": null,
            "align_items": null,
            "align_self": null,
            "border": null,
            "bottom": null,
            "display": null,
            "flex": null,
            "flex_flow": null,
            "grid_area": null,
            "grid_auto_columns": null,
            "grid_auto_flow": null,
            "grid_auto_rows": null,
            "grid_column": null,
            "grid_gap": null,
            "grid_row": null,
            "grid_template_areas": null,
            "grid_template_columns": null,
            "grid_template_rows": null,
            "height": null,
            "justify_content": null,
            "justify_items": null,
            "left": null,
            "margin": null,
            "max_height": null,
            "max_width": null,
            "min_height": null,
            "min_width": null,
            "object_fit": null,
            "object_position": null,
            "order": null,
            "overflow": null,
            "overflow_x": null,
            "overflow_y": null,
            "padding": null,
            "right": null,
            "top": null,
            "visibility": null,
            "width": null
          }
        },
        "a671aadad567491d9e483720895e3288": {
          "model_module": "@jupyter-widgets/controls",
          "model_name": "SliderStyleModel",
          "model_module_version": "1.5.0",
          "state": {
            "_model_module": "@jupyter-widgets/controls",
            "_model_module_version": "1.5.0",
            "_model_name": "SliderStyleModel",
            "_view_count": null,
            "_view_module": "@jupyter-widgets/base",
            "_view_module_version": "1.2.0",
            "_view_name": "StyleView",
            "description_width": "",
            "handle_color": null
          }
        },
        "8fe7cfabd6c44565a77ab2a8fa29f800": {
          "model_module": "@jupyter-widgets/output",
          "model_name": "OutputModel",
          "model_module_version": "1.0.0",
          "state": {
            "_dom_classes": [],
            "_model_module": "@jupyter-widgets/output",
            "_model_module_version": "1.0.0",
            "_model_name": "OutputModel",
            "_view_count": null,
            "_view_module": "@jupyter-widgets/output",
            "_view_module_version": "1.0.0",
            "_view_name": "OutputView",
            "layout": "IPY_MODEL_4929797f6ebe460b88a8756a95b14add",
            "msg_id": "",
            "outputs": [
              {
                "output_type": "stream",
                "name": "stdout",
                "text": [
                  "Original String: abab\n",
                  "x: 'a', y: 'b', z: 'ab'\n"
                ]
              },
              {
                "output_type": "display_data",
                "data": {
                  "text/plain": "<IPython.core.display.HTML object>",
                  "text/html": "\n    <div style=\"font-size:18px;\">\n        <span style=\"color:blue;\">x: a</span>\n        <span style=\"color:green;\">y: b</span>\n        <span style=\"color:red;\">z: ab</span>\n    </div>\n    "
                },
                "metadata": {}
              },
              {
                "output_type": "stream",
                "name": "stdout",
                "text": [
                  "Pumped String: abab\n",
                  "✅ The pumped string belongs to the language.\n"
                ]
              }
            ]
          }
        },
        "4929797f6ebe460b88a8756a95b14add": {
          "model_module": "@jupyter-widgets/base",
          "model_name": "LayoutModel",
          "model_module_version": "1.2.0",
          "state": {
            "_model_module": "@jupyter-widgets/base",
            "_model_module_version": "1.2.0",
            "_model_name": "LayoutModel",
            "_view_count": null,
            "_view_module": "@jupyter-widgets/base",
            "_view_module_version": "1.2.0",
            "_view_name": "LayoutView",
            "align_content": null,
            "align_items": null,
            "align_self": null,
            "border": null,
            "bottom": null,
            "display": null,
            "flex": null,
            "flex_flow": null,
            "grid_area": null,
            "grid_auto_columns": null,
            "grid_auto_flow": null,
            "grid_auto_rows": null,
            "grid_column": null,
            "grid_gap": null,
            "grid_row": null,
            "grid_template_areas": null,
            "grid_template_columns": null,
            "grid_template_rows": null,
            "height": null,
            "justify_content": null,
            "justify_items": null,
            "left": null,
            "margin": null,
            "max_height": null,
            "max_width": null,
            "min_height": null,
            "min_width": null,
            "object_fit": null,
            "object_position": null,
            "order": null,
            "overflow": null,
            "overflow_x": null,
            "overflow_y": null,
            "padding": null,
            "right": null,
            "top": null,
            "visibility": null,
            "width": null
          }
        }
      }
    }
  },
  "cells": [
    {
      "cell_type": "code",
      "source": [
        "import ipywidgets as widgets\n",
        "from IPython.display import display, HTML"
      ],
      "metadata": {
        "id": "kZWx6y1DTK8A"
      },
      "execution_count": null,
      "outputs": []
    },
    {
      "cell_type": "code",
      "source": [
        "def is_in_language(string, language_set):\n",
        "    \"\"\"\n",
        "    Check if the given string belongs to a defined language set.\n",
        "    \"\"\"\n",
        "    return string in language_set\n",
        "\n",
        "def pumping_lemma_check(string, language_set, pumping_length):\n",
        "    \"\"\"\n",
        "    Check if the input string satisfies the Pumping Lemma for the given regular language.\n",
        "    \"\"\"\n",
        "    for i in range(1, len(string) - 1):\n",
        "        for j in range(i + 1, len(string)):\n",
        "            x, y, z = string[:i], string[i:j], string[j:]\n",
        "            if len(y) > 0 and len(x + y) <= pumping_length:\n",
        "                return x, y, z\n",
        "    return None, None, None  # No valid decomposition found"
      ],
      "metadata": {
        "id": "1Wn_5CP3TOdK"
      },
      "execution_count": null,
      "outputs": []
    },
    {
      "cell_type": "code",
      "source": [
        "def visualize_decomposition(string, x, y, z):\n",
        "    \"\"\"\n",
        "    Visualize the decomposition of the string into x, y, z.\n",
        "    \"\"\"\n",
        "    if x is None:\n",
        "        print(\"No valid decomposition found.\")\n",
        "        return\n",
        "\n",
        "    print(f\"Original String: {string}\")\n",
        "    print(f\"x: '{x}', y: '{y}', z: '{z}'\")\n",
        "    display(HTML(f\"\"\"\n",
        "    <div style=\"font-size:18px;\">\n",
        "        <span style=\"color:blue;\">x: {x}</span>\n",
        "        <span style=\"color:green;\">y: {y}</span>\n",
        "        <span style=\"color:red;\">z: {z}</span>\n",
        "    </div>\n",
        "    \"\"\"))"
      ],
      "metadata": {
        "id": "fd6NmyDdTQyl"
      },
      "execution_count": null,
      "outputs": []
    },
    {
      "cell_type": "code",
      "source": [
        "def interactive_pumping_lemma():\n",
        "    # User inputs\n",
        "    string_input = widgets.Text(description=\"String:\")\n",
        "    pumping_length_input = widgets.IntSlider(value=4, min=1, max=10, description=\"Pumping Length:\")\n",
        "    language_input = widgets.Textarea(value=\"a ab abab\", description=\"Language:\")\n",
        "    pump_factor_slider = widgets.IntSlider(value=1, min=0, max=5, description=\"Pump Factor:\")\n",
        "\n",
        "    output = widgets.Output()\n",
        "\n",
        "    def update_visualization(change):\n",
        "        output.clear_output()\n",
        "        with output:\n",
        "            # Parse inputs\n",
        "            string = string_input.value\n",
        "            pumping_length = pumping_length_input.value\n",
        "            language_set = set(language_input.value.split())\n",
        "\n",
        "            # Perform pumping lemma check\n",
        "            x, y, z = pumping_lemma_check(string, language_set, pumping_length)\n",
        "\n",
        "            if x is None:\n",
        "                print(\"The string cannot be decomposed to satisfy the pumping lemma.\")\n",
        "                return\n",
        "\n",
        "            # Pump the string\n",
        "            pumped_string = x + (y * pump_factor_slider.value) + z\n",
        "\n",
        "            # Visualize the decomposition and result\n",
        "            visualize_decomposition(string, x, y, z)\n",
        "            print(f\"Pumped String: {pumped_string}\")\n",
        "            if is_in_language(pumped_string, language_set):\n",
        "                print(\"✅ The pumped string belongs to the language.\")\n",
        "            else:\n",
        "                print(\"❌ The pumped string does NOT belong to the language.\")\n",
        "\n",
        "    # Attach event listeners\n",
        "    pump_factor_slider.observe(update_visualization, names='value')\n",
        "    string_input.observe(update_visualization, names='value')\n",
        "    pumping_length_input.observe(update_visualization, names='value')\n",
        "    language_input.observe(update_visualization, names='value')\n",
        "\n",
        "    # Display widgets\n",
        "    display(string_input, pumping_length_input, language_input, pump_factor_slider, output)"
      ],
      "metadata": {
        "id": "So9gRUIfTW98"
      },
      "execution_count": null,
      "outputs": []
    },
    {
      "cell_type": "code",
      "source": [
        "interactive_pumping_lemma()"
      ],
      "metadata": {
        "colab": {
          "base_uri": "https://localhost:8080/",
          "height": 248,
          "referenced_widgets": [
            "b978e6f120b44741a7db50a349a1d117",
            "235acf13bfad48fe8b023e0aa18fab25",
            "e4aaee6cf3264abda8e663dd2d418d83",
            "a4ecf99cfc294b8d9b38419df5fde98d",
            "294a62a7a0be4f24adb6bfea20cea5c7",
            "231b9850c486454c8bdd1fad46ad9254",
            "396ae3d2ca574201816d4b7a3f7b9f42",
            "4078497be2cd44ef90e1d0c4179ed2f6",
            "5b00a35db8214953a5bf2f8fb86eca7d",
            "98062673798947ae963367159455d29f",
            "ec12884a46084471af5cb7b2491dd67c",
            "a671aadad567491d9e483720895e3288",
            "8fe7cfabd6c44565a77ab2a8fa29f800",
            "4929797f6ebe460b88a8756a95b14add"
          ]
        },
        "id": "vzdDWdmWTatb",
        "outputId": "50124595-e3c2-4c04-87cf-153a3f619848"
      },
      "execution_count": null,
      "outputs": [
        {
          "output_type": "display_data",
          "data": {
            "text/plain": [
              "Text(value='', description='String:')"
            ],
            "application/vnd.jupyter.widget-view+json": {
              "version_major": 2,
              "version_minor": 0,
              "model_id": "b978e6f120b44741a7db50a349a1d117"
            }
          },
          "metadata": {}
        },
        {
          "output_type": "display_data",
          "data": {
            "text/plain": [
              "IntSlider(value=4, description='Pumping Length:', max=10, min=1)"
            ],
            "application/vnd.jupyter.widget-view+json": {
              "version_major": 2,
              "version_minor": 0,
              "model_id": "a4ecf99cfc294b8d9b38419df5fde98d"
            }
          },
          "metadata": {}
        },
        {
          "output_type": "display_data",
          "data": {
            "text/plain": [
              "Textarea(value='a ab abab', description='Language:')"
            ],
            "application/vnd.jupyter.widget-view+json": {
              "version_major": 2,
              "version_minor": 0,
              "model_id": "396ae3d2ca574201816d4b7a3f7b9f42"
            }
          },
          "metadata": {}
        },
        {
          "output_type": "display_data",
          "data": {
            "text/plain": [
              "IntSlider(value=1, description='Pump Factor:', max=5)"
            ],
            "application/vnd.jupyter.widget-view+json": {
              "version_major": 2,
              "version_minor": 0,
              "model_id": "98062673798947ae963367159455d29f"
            }
          },
          "metadata": {}
        },
        {
          "output_type": "display_data",
          "data": {
            "text/plain": [
              "Output()"
            ],
            "application/vnd.jupyter.widget-view+json": {
              "version_major": 2,
              "version_minor": 0,
              "model_id": "8fe7cfabd6c44565a77ab2a8fa29f800"
            }
          },
          "metadata": {}
        }
      ]
    }
  ]
}